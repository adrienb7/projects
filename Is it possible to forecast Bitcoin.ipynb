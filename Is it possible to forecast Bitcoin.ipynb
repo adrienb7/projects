{
 "cells": [
  {
   "cell_type": "markdown",
   "metadata": {
    "_uuid": "09e32975579ebee4f9cee5aad785d6a0e8dc08b0"
   },
   "source": [
    "**Prévisions avec Séries Temporelles sur le Bitcoin**\n",
    "\n",
    "Le Bitcoin est la cryptomonnaie la plus ancienne et la plus reconnue, lancée en open source en 2009 par l’anonyme Satoshi Nakamoto. Il agit comme un moyen d'échange numérique décentralisé, où les transactions sont vérifiées et enregistrées dans un registre distribué public (la blockchain), sans nécessiter une autorité centrale ou un intermédiaire de confiance. Chaque bloc de transactions contient un hachage cryptographique SHA-256 du bloc précédent, créant ainsi une chaîne continue et immuable de toutes les transactions passées.\n",
    "\n",
    "Comme toute devise ou produit sur le marché, l'adoption du Bitcoin par le grand public a rapidement été suivie par le développement du trading et d'instruments financiers liés, et cette tendance continue de s'étendre. Si vous n'êtes pas familier avec le Bitcoin, il serait judicieux de se renseigner à son sujet. Ce projet est divisé en deux parties :\n",
    "\n",
    "\n",
    "\n",
    "* Exploration des données\n",
    "* Analyse des séries temporelles\n",
    "\n",
    "Et pour la **prévision des séries temporelles :**\n",
    "\n",
    "* Prévision des séries temporelles avec **LSTM**\n",
    "* Prévision des séries temporelles avec **XGBoost**\n",
    "* Prévision des séries temporelles avec **Prophet** de Facebook\n",
    "* Prévision des séries temporelles avec **ARIMA**\n"
   ]
  },
  {
   "cell_type": "code",
   "execution_count": 1,
   "metadata": {
    "_uuid": "e9f570203bf9452c02983eeae4259e8534e2ad6a",
    "trusted": true
   },
   "outputs": [
    {
     "ename": "ImportError",
     "evalue": "\nThe plotly.plotly module is deprecated,\nplease install the chart-studio package and use the\nchart_studio.plotly module instead. \n",
     "output_type": "error",
     "traceback": [
      "\u001b[1;31m---------------------------------------------------------------------------\u001b[0m",
      "\u001b[1;31mImportError\u001b[0m                               Traceback (most recent call last)",
      "Cell \u001b[1;32mIn[1], line 9\u001b[0m\n\u001b[0;32m      5\u001b[0m \u001b[38;5;66;03m# Input data files are available in the \"../input/\" directory.\u001b[39;00m\n\u001b[0;32m      6\u001b[0m \u001b[38;5;66;03m# For example, running this (by clicking run or pressing Shift+Enter) will list the files in the input directory\u001b[39;00m\n\u001b[0;32m      8\u001b[0m \u001b[38;5;28;01mfrom\u001b[39;00m \u001b[38;5;21;01mplotly\u001b[39;00m \u001b[38;5;28;01mimport\u001b[39;00m tools\n\u001b[1;32m----> 9\u001b[0m \u001b[38;5;28;01mimport\u001b[39;00m \u001b[38;5;21;01mplotly\u001b[39;00m\u001b[38;5;21;01m.\u001b[39;00m\u001b[38;5;21;01mplotly\u001b[39;00m \u001b[38;5;28;01mas\u001b[39;00m \u001b[38;5;21;01mpy\u001b[39;00m\n\u001b[0;32m     10\u001b[0m \u001b[38;5;28;01mfrom\u001b[39;00m \u001b[38;5;21;01mplotly\u001b[39;00m\u001b[38;5;21;01m.\u001b[39;00m\u001b[38;5;21;01moffline\u001b[39;00m \u001b[38;5;28;01mimport\u001b[39;00m init_notebook_mode, iplot\n\u001b[0;32m     11\u001b[0m init_notebook_mode(connected\u001b[38;5;241m=\u001b[39m\u001b[38;5;28;01mTrue\u001b[39;00m)\n",
      "File \u001b[1;32mc:\\Users\\Adrien\\anaconda3\\Lib\\site-packages\\plotly\\plotly\\__init__.py:4\u001b[0m\n\u001b[0;32m      1\u001b[0m \u001b[38;5;28;01mfrom\u001b[39;00m \u001b[38;5;21;01m__future__\u001b[39;00m \u001b[38;5;28;01mimport\u001b[39;00m absolute_import\n\u001b[0;32m      2\u001b[0m \u001b[38;5;28;01mfrom\u001b[39;00m \u001b[38;5;21;01m_plotly_future_\u001b[39;00m \u001b[38;5;28;01mimport\u001b[39;00m _chart_studio_error\n\u001b[1;32m----> 4\u001b[0m _chart_studio_error(\u001b[38;5;124m\"\u001b[39m\u001b[38;5;124mplotly\u001b[39m\u001b[38;5;124m\"\u001b[39m)\n",
      "File \u001b[1;32mc:\\Users\\Adrien\\anaconda3\\Lib\\site-packages\\_plotly_future_\\__init__.py:43\u001b[0m, in \u001b[0;36m_chart_studio_error\u001b[1;34m(submodule)\u001b[0m\n\u001b[0;32m     42\u001b[0m \u001b[38;5;28;01mdef\u001b[39;00m \u001b[38;5;21m_chart_studio_error\u001b[39m(submodule):\n\u001b[1;32m---> 43\u001b[0m     \u001b[38;5;28;01mraise\u001b[39;00m \u001b[38;5;167;01mImportError\u001b[39;00m(\n\u001b[0;32m     44\u001b[0m \u001b[38;5;250m        \u001b[39m\u001b[38;5;124;03m\"\"\"\u001b[39;00m\n\u001b[0;32m     45\u001b[0m \u001b[38;5;124;03mThe plotly.{submodule} module is deprecated,\u001b[39;00m\n\u001b[0;32m     46\u001b[0m \u001b[38;5;124;03mplease install the chart-studio package and use the\u001b[39;00m\n\u001b[0;32m     47\u001b[0m \u001b[38;5;124;03mchart_studio.{submodule} module instead. \u001b[39;00m\n\u001b[0;32m     48\u001b[0m \u001b[38;5;124;03m\"\"\"\u001b[39;00m\u001b[38;5;241m.\u001b[39mformat(\n\u001b[0;32m     49\u001b[0m             submodule\u001b[38;5;241m=\u001b[39msubmodule\n\u001b[0;32m     50\u001b[0m         )\n\u001b[0;32m     51\u001b[0m     )\n",
      "\u001b[1;31mImportError\u001b[0m: \nThe plotly.plotly module is deprecated,\nplease install the chart-studio package and use the\nchart_studio.plotly module instead. \n"
     ]
    }
   ],
   "source": [
    "import numpy as np # linear algebra\n",
    "import pandas as pd # data processing, CSV file I/O (e.g. pd.read_csv)\n",
    "import matplotlib.pyplot as plt \n",
    "\n",
    "# Input data files are available in the \"../input/\" directory.\n",
    "# For example, running this (by clicking run or pressing Shift+Enter) will list the files in the input directory\n",
    "\n",
    "from plotly import tools\n",
    "import plotly.plotly as py\n",
    "from plotly.offline import init_notebook_mode, iplot\n",
    "init_notebook_mode(connected=True)\n",
    "import plotly.graph_objs as go\n",
    "import gc\n",
    "\n",
    "import matplotlib.pyplot as plt\n",
    "import seaborn as sns\n",
    "\n",
    "#import os\n",
    "#print(os.listdir(\"../input\"))\n",
    "\n",
    "from subprocess import check_output\n",
    "print(check_output([\"ls\", \"../input\"]).decode(\"utf8\"))"
   ]
  },
  {
   "cell_type": "markdown",
   "metadata": {
    "_uuid": "7670af15964271fc3f19ccd82ffa9f7064b78437"
   },
   "source": [
    "**Exploration des données**\n",
    "\n",
    "Dans cette section, nous explorons simplement les données, c'est-à-dire les prix historiques du Bitcoin, et tentons de découvrir des insights. Nous utiliserons le jeu de données de Coinbase, car il s'agit de l'une des plateformes d'échange/portefeuille Bitcoin les plus utilisées au monde.\n"
   ]
  },
  {
   "cell_type": "code",
   "execution_count": null,
   "metadata": {
    "_kg_hide-input": true,
    "_uuid": "500e2038829ebe2d7cc32b60aa9a57e3d7be5bb6",
    "trusted": true
   },
   "outputs": [],
   "source": [
    "import datetime, pytz\n",
    "#define a conversion function for the native timestamps in the csv file\n",
    "def dateparse (time_in_secs):    \n",
    "    return pytz.utc.localize(datetime.datetime.fromtimestamp(float(time_in_secs)))\n",
    "\n",
    "\n",
    "data = pd.read_csv('../input/coinbaseUSD_1-min_data_2014-12-01_to_2018-11-11.csv', parse_dates=[0], date_parser=dateparse)"
   ]
  },
  {
   "cell_type": "code",
   "execution_count": null,
   "metadata": {
    "_cell_guid": "b1076dfc-b9ad-4769-8c92-a6c4dae69d19",
    "_kg_hide-input": true,
    "_uuid": "8f2839f25d086af736a60e9eeb907d3b93b6e0e5",
    "trusted": true
   },
   "outputs": [],
   "source": [
    "data.info()"
   ]
  },
  {
   "cell_type": "code",
   "execution_count": null,
   "metadata": {
    "_cell_guid": "79c7e3d0-c299-4dcb-8224-4455121ee9b0",
    "_kg_hide-input": true,
    "_kg_hide-output": true,
    "_uuid": "d629ff2d2480ee46fbb7e2d37f6b5fab8052498a",
    "trusted": true
   },
   "outputs": [],
   "source": [
    "data.head()"
   ]
  },
  {
   "cell_type": "markdown",
   "metadata": {
    "_uuid": "fbf694e11e5ee2f6c4cca08b900fa46a2916235a",
    "trusted": true
   },
   "source": [
    "Un petit prétraitement est nécessaire, en remplaçant les valeurs NaN par des zéros et des données précédentes.\n"
   ]
  },
  {
   "cell_type": "code",
   "execution_count": null,
   "metadata": {
    "_uuid": "043274c53776f8683b9574a75f245c9657b0794e",
    "trusted": true
   },
   "outputs": [],
   "source": [
    "# First thing is to fix the data for bars/candles where there are no trades. \n",
    "# Volume/trades are a single event so fill na's with zeroes for relevant fields...\n",
    "data['Volume_(BTC)'].fillna(value=0, inplace=True)\n",
    "data['Volume_(Currency)'].fillna(value=0, inplace=True)\n",
    "data['Weighted_Price'].fillna(value=0, inplace=True)\n",
    "\n",
    "# next we need to fix the OHLC (open high low close) data which is a continuous timeseries so\n",
    "# lets fill forwards those values...\n",
    "data['Open'].fillna(method='ffill', inplace=True)\n",
    "data['High'].fillna(method='ffill', inplace=True)\n",
    "data['Low'].fillna(method='ffill', inplace=True)\n",
    "data['Close'].fillna(method='ffill', inplace=True)\n",
    "\n",
    "data.head()"
   ]
  },
  {
   "cell_type": "markdown",
   "metadata": {
    "_uuid": "15e8cf8f0599075e8ef943b341554b3f7b1a5a63"
   },
   "source": [
    "Création de lignes hebdomadaires pour la visualisation des données\n"
   ]
  },
  {
   "cell_type": "code",
   "execution_count": null,
   "metadata": {
    "_kg_hide-input": true,
    "_kg_hide-output": true,
    "_uuid": "efd5479a17ef99b77996f55b4a09f5674f35d956",
    "trusted": true
   },
   "outputs": [],
   "source": [
    "# create valid date range\n",
    "start = datetime.datetime(2015, 1, 1, 0, 0, 0, 0, pytz.UTC)\n",
    "end = datetime.datetime(2018, 11, 11, 0, 0, 0, 0, pytz.UTC)\n",
    "\n",
    "# find rows between start and end time and find the first row (00:00 monday morning)\n",
    "weekly_rows = data[(data['Timestamp'] >= start) & (data['Timestamp'] <= end)].groupby([pd.Grouper(key='Timestamp', freq='W-MON')]).first().reset_index()\n",
    "weekly_rows.head()"
   ]
  },
  {
   "cell_type": "markdown",
   "metadata": {
    "_uuid": "09320d0b0e8127bcf153fefc2b5b05acb34d1567"
   },
   "source": [
    "Visualisons les prix historiques du Bitcoin (2015-2018)\n"
   ]
  },
  {
   "cell_type": "code",
   "execution_count": null,
   "metadata": {
    "_kg_hide-input": true,
    "_uuid": "0bd8dd50c34ef23c100f5050f4bbaa7d88a5effa",
    "trusted": true
   },
   "outputs": [],
   "source": [
    "# We use Plotly to create the plots https://plot.ly/python/\n",
    "trace1 = go.Scatter(\n",
    "    x = weekly_rows['Timestamp'],\n",
    "    y = weekly_rows['Open'].astype(float),\n",
    "    mode = 'lines',\n",
    "    name = 'Open'\n",
    ")\n",
    "\n",
    "trace2 = go.Scatter(\n",
    "    x = weekly_rows['Timestamp'],\n",
    "    y = weekly_rows['Close'].astype(float),\n",
    "    mode = 'lines',\n",
    "    name = 'Close'\n",
    ")\n",
    "trace3 = go.Scatter(\n",
    "    x = weekly_rows['Timestamp'],\n",
    "    y = weekly_rows['Weighted_Price'].astype(float),\n",
    "    mode = 'lines',\n",
    "    name = 'Weighted Avg'\n",
    ")\n",
    "\n",
    "layout = dict(\n",
    "    title='Historical Bitcoin Prices (2015-2018) with the Slider ',\n",
    "    xaxis=dict(\n",
    "        rangeselector=dict(\n",
    "            buttons=list([\n",
    "                #change the count to desired amount of months.\n",
    "                dict(count=1,\n",
    "                     label='1m',\n",
    "                     step='month',\n",
    "                     stepmode='backward'),\n",
    "                dict(count=6,\n",
    "                     label='6m',\n",
    "                     step='month',\n",
    "                     stepmode='backward'),\n",
    "                dict(count=12,\n",
    "                     label='1y',\n",
    "                     step='month',\n",
    "                     stepmode='backward'),\n",
    "                dict(count=36,\n",
    "                     label='3y',\n",
    "                     step='month',\n",
    "                     stepmode='backward'),\n",
    "                dict(step='all')\n",
    "            ])\n",
    "        ),\n",
    "        rangeslider=dict(\n",
    "            visible = True\n",
    "        ),\n",
    "        type='date'\n",
    "    )\n",
    ")\n",
    "\n",
    "data = [trace1,trace2, trace3]\n",
    "fig = dict(data=data, layout=layout)\n",
    "iplot(fig, filename = \"Time Series with Rangeslider\")"
   ]
  },
  {
   "cell_type": "markdown",
   "metadata": {
    "_uuid": "9922acdb60c1d1331985b90b15160d762f41bda6"
   },
   "source": [
    "Visualisons le volume du marché historique du Bitcoin (2015-2018)"
   ]
  },
  {
   "cell_type": "code",
   "execution_count": null,
   "metadata": {
    "_kg_hide-input": true,
    "_uuid": "237ccce68abadfd02cb630f8c78ef6449945491a",
    "trusted": true
   },
   "outputs": [],
   "source": [
    "trace1 = go.Scatter(\n",
    "    x = weekly_rows['Timestamp'],\n",
    "    y = weekly_rows['Volume_(Currency)'].astype(float),\n",
    "    mode = 'lines',\n",
    "    name = 'Bitcoin Price (Open)'\n",
    ")\n",
    "\n",
    "layout = dict(\n",
    "    title='Historical Bitcoin Volume (USD) (2015-2018) with the slider',\n",
    "    xaxis=dict(\n",
    "        rangeselector=dict(\n",
    "            buttons=list([\n",
    "                dict(count=1,\n",
    "                     label='1m',\n",
    "                     step='month',\n",
    "                     stepmode='backward'),\n",
    "                dict(count=6,\n",
    "                     label='6m',\n",
    "                     step='month',\n",
    "                     stepmode='backward'),\n",
    "                dict(count=12,\n",
    "                     label='1y',\n",
    "                     step='month',\n",
    "                     stepmode='backward'),\n",
    "                dict(count=36,\n",
    "                     label='3y',\n",
    "                     step='month',\n",
    "                     stepmode='backward'),\n",
    "                dict(step='all')\n",
    "            ])\n",
    "        ),\n",
    "        rangeslider=dict(\n",
    "            visible = True\n",
    "        ),\n",
    "        type='date'\n",
    "    )\n",
    ")\n",
    "\n",
    "data = [trace1]\n",
    "fig = dict(data=data, layout=layout)\n",
    "iplot(fig, filename = \"Time Series with Rangeslider\")"
   ]
  },
  {
   "cell_type": "code",
   "execution_count": null,
   "metadata": {
    "_kg_hide-input": true,
    "_uuid": "087532f966c3d0618cc2d00bae872a71c6959759",
    "trusted": true
   },
   "outputs": [],
   "source": [
    "#BTC Volume vs USD visualization\n",
    "trace = go.Scattergl(\n",
    "    y = weekly_rows['Volume_(BTC)'].astype(float),\n",
    "    x = weekly_rows['Weighted_Price'].astype(float),\n",
    "    mode = 'markers',\n",
    "    marker = dict(\n",
    "        color = '#FFBAD2',\n",
    "        line = dict(width = 1)\n",
    "    )\n",
    ")\n",
    "layout = go.Layout(\n",
    "    title='BTC Volume v/s USD',\n",
    "    xaxis=dict(\n",
    "        title='Weighted Price',\n",
    "        titlefont=dict(\n",
    "            family='Courier New, monospace',\n",
    "            size=18,\n",
    "            color='#7f7f7f'\n",
    "        )\n",
    "    ),\n",
    "    yaxis=dict(\n",
    "        title='Volume BTC',\n",
    "        titlefont=dict(\n",
    "            family='Courier New, monospace',\n",
    "            size=18,\n",
    "            color='#7f7f7f'\n",
    "        )))\n",
    "data = [trace]\n",
    "fig = go.Figure(data=data, layout=layout)\n",
    "iplot(fig, filename='compare_webgl')"
   ]
  },
  {
   "cell_type": "markdown",
   "metadata": {
    "_uuid": "e6f91c40961f42f3488d1c69af27e46ab3e4306c"
   },
   "source": [
    "**Historique des prix du Bitcoin**\n",
    "\n",
    "*  18 août 2008, le nom de domaine bitcoin.org est enregistré.\n",
    "*  6 novembre 2010, la capitalisation boursière du Bitcoin atteint 1 million USD. Son taux de change sur MtGox atteint 0,50 USD par BTC.\n",
    "*  2 juin 2011, le taux de change USD/BTC est de 10 USD par Bitcoin. Pendant 6 jours, la valeur du Bitcoin est fixée à 31,91 USD sur MtGox.\n",
    "*  28 février 2013, le taux de change du Bitcoin dépasse 31,91 USD pour la première fois en 601 jours.\n",
    "*  1er avril 2013, le taux de change du Bitcoin atteint 100 USD pour 1 BTC.\n",
    "*  Janvier 2015, Coinbase lève 75 millions USD dans le cadre d'un tour de financement de série C, battant le précédent record pour une entreprise de Bitcoin.\n",
    "*  Février 2015, le prix du Bitcoin atteint 262 USD.\n",
    "*  Janvier 2017, après un rallye durant la majeure partie du second semestre 2016, le Bitcoin franchit la barre des 1 000 USD pour la première fois en 3 ans.\n",
    "*  12 juin 2017, le taux de change du Bitcoin dépasse 3 000 USD par BTC.\n",
    "*  29 novembre 2017, le prix du Bitcoin dépasse 10 000 USD.\n",
    "*  18 décembre 2017, le Bitcoin atteint un record historique, mais n'atteint pas les 20 000 USD.\n",
    "*  28 décembre 2017, le prix du Bitcoin chute après que la Corée du Sud annonce des mesures supplémentaires pour réguler le trading de Bitcoin, y compris la fermeture potentielle des échanges, au milieu des mouvements volatils sur le troisième plus grand marché de cryptomonnaies au monde.\n",
    "*  31 octobre 2018, 6 300 USD, pour le 10e anniversaire du Bitcoin, le prix se maintient au-dessus de 6 000 USD pendant une période de volatilité historiquement basse.\n"
   ]
  },
  {
   "cell_type": "markdown",
   "metadata": {
    "_uuid": "5847a3e48cd3e7e46b213b9f72a2c61ec013890a"
   },
   "source": [
    "**Prévision des séries temporelles**\n",
    "\n",
    "Les données de séries temporelles sont des données expérimentales observées à différents moments dans le temps (généralement à intervalles réguliers, comme une fois par jour, par heure ou par minute). Par exemple, les données des ventes de billets d'avion par jour constituent une série temporelle. Cependant, le simple fait qu'une série d'événements ait un élément temporel ne la rend pas automatiquement une série temporelle, comme les dates des grandes catastrophes aériennes, qui sont espacées de manière aléatoire et ne constituent pas une série temporelle. Ces types de processus aléatoires sont appelés processus ponctuels.\n",
    "\n",
    "Les séries temporelles ont plusieurs caractéristiques clés telles que la tendance, la saisonnalité et le bruit. La prévision est le processus de réalisation de prédictions sur l'avenir, basé sur les données passées et présentes.\n",
    "\n",
    "Dans ce projet, nous tentons de réaliser une analyse des séries temporelles sur les données des prix historiques du Bitcoin. Comme nous pouvons le voir dans la section **Exploration des données**, les prix du Bitcoin ont été assez volatils et incohérents au fil des années. Il est très difficile de réaliser une analyse de séries temporelles sur des données aussi volatiles. Cependant, nous essayons ici d'explorer différents modèles de prévision des séries temporelles. Tous les modèles utilisés dans ce projet sont très basiques, et il existe une possibilité de modèles plus complexes et plus performants.\n",
    "\n",
    "* Prévision des séries temporelles avec LSTM\n",
    "* Prévision des séries temporelles avec XGBoost\n",
    "* Prévision des séries temporelles avec Prophet de Facebook\n",
    "* Prévision des séries temporelles avec ARIMA\n",
    "\n"
   ]
  },
  {
   "cell_type": "markdown",
   "metadata": {
    "_uuid": "76b4cffa9f19ac762eccceb3c8761741566ac49e"
   },
   "source": [
    "**Prédiction avec LSTM**\n",
    "\n",
    "Dans cette première section, nous utilisons LSTM (Long short-term memory). Les unités LSTM sont des unités d'un réseau de neurones récurrents (RNN). Un RNN composé d'unités LSTM est souvent appelé un réseau LSTM (ou simplement LSTM). Une unité LSTM classique est composée d'une cellule, d'une porte d'entrée, d'une porte de sortie et d'une porte d'oubli. La cellule mémorise des valeurs sur des intervalles de temps arbitraires et les trois portes régulent le flux d'informations entrant et sortant de la cellule.\n",
    "\n",
    "Bien que LSTM ne soit pas idéal pour prévoir un marché turbulent comme celui du Bitcoin, nous tentons tout de même notre chance ici.\n"
   ]
  },
  {
   "cell_type": "code",
   "execution_count": null,
   "metadata": {
    "_kg_hide-input": true,
    "_uuid": "231b4d4d7d14edd27dd7b626ebd3b1ec122278db",
    "trusted": true
   },
   "outputs": [],
   "source": [
    "#load the dataset \n",
    "data = pd.read_csv('../input/coinbaseUSD_1-min_data_2014-12-01_to_2018-11-11.csv',parse_dates=[0], date_parser=dateparse) \n",
    "data['Timestamp'] = data['Timestamp'].dt.tz_localize(None)\n",
    "data = data.groupby([pd.Grouper(key='Timestamp', freq='H')]).first().reset_index()\n",
    "data = data.set_index('Timestamp')\n",
    "data = data[['Weighted_Price']]\n",
    "data['Weighted_Price'].fillna(method='ffill', inplace=True)\n"
   ]
  },
  {
   "cell_type": "markdown",
   "metadata": {
    "_uuid": "62600171488836bed91ad9b6993e35641df9b58d"
   },
   "source": [
    "Pour l'entraînement et le test, nous prenons le '25 juin 2018' comme date de séparation. Il y a eu une baisse considérable des prix du Bitcoin entre la période de juin à juillet 2018. Si nous regardons les prix historiques, le marché saisonnier a commencé à remonter à partir de cette date après avoir atteint son point le plus bas, bien que le prix ait atteint un niveau encore plus bas de 5 972 $ le 29 juin 2018. Après avoir atteint la marque historique des 20 000 $ le 18 décembre, il y a eu plusieurs baisses et le prix du marché a été corrigé à chaque fois."
   ]
  },
  {
   "cell_type": "code",
   "execution_count": null,
   "metadata": {
    "_uuid": "bc3761b00d1e09cf0fb07d9fbd65248e890b72e7",
    "trusted": true
   },
   "outputs": [],
   "source": [
    "# split data\n",
    "split_date = '25-Jun-2018'\n",
    "data_train = data.loc[data.index <= split_date].copy()\n",
    "data_test = data.loc[data.index > split_date].copy()\n"
   ]
  },
  {
   "cell_type": "code",
   "execution_count": null,
   "metadata": {
    "_uuid": "0e716cd07da40a42b4f6fe80b27ab6efa3e4ac4d",
    "trusted": true
   },
   "outputs": [],
   "source": [
    "# Data preprocess\n",
    "training_set = data_train.values\n",
    "training_set = np.reshape(training_set, (len(training_set), 1))\n",
    "from sklearn.preprocessing import MinMaxScaler\n",
    "sc = MinMaxScaler()\n",
    "training_set = sc.fit_transform(training_set)\n",
    "X_train = training_set[0:len(training_set)-1]\n",
    "y_train = training_set[1:len(training_set)]\n",
    "X_train = np.reshape(X_train, (len(X_train), 1, 1))\n"
   ]
  },
  {
   "cell_type": "code",
   "execution_count": null,
   "metadata": {
    "_kg_hide-input": true,
    "_uuid": "0bf46a2b01901269fc8d6713cd77d896757877f8",
    "trusted": true
   },
   "outputs": [],
   "source": [
    "color_pal = [\"#F8766D\", \"#D39200\", \"#93AA00\", \"#00BA38\", \"#00C19F\", \"#00B9E3\", \"#619CFF\", \"#DB72FB\"]\n",
    "_ = data.plot(style='', figsize=(15,5), color=color_pal[0], title='BTC Weighted_Price Price (USD) by Hours')"
   ]
  },
  {
   "cell_type": "code",
   "execution_count": null,
   "metadata": {
    "_kg_hide-input": true,
    "_uuid": "fc8627e6d076c15d61daf0c27476311b3b80110e",
    "trusted": true
   },
   "outputs": [],
   "source": [
    "_ = data_test \\\n",
    "    .rename(columns={'Weighted_Price': 'Test Set'}) \\\n",
    "    .join(data_train.rename(columns={'Weighted_Price': 'Training Set'}), how='outer') \\\n",
    "    .plot(figsize=(15,5), title='BTC Weighted_Price Price (USD) by Hours', style='')"
   ]
  },
  {
   "cell_type": "markdown",
   "metadata": {
    "_uuid": "5aa2b8440625acb992407033180cd6b662b021e5"
   },
   "source": [
    "Nous utiliserons ici un LSTM classique pour la prévision. Le modèle est entraîné sur les données antérieures au 25 juin 2018."
   ]
  },
  {
   "cell_type": "code",
   "execution_count": null,
   "metadata": {
    "_kg_hide-input": false,
    "_kg_hide-output": true,
    "_uuid": "147fc32e2f810a4b0202ab888ddc620db091e74b",
    "trusted": true
   },
   "outputs": [],
   "source": [
    "# Importing the Keras libraries and packages\n",
    "from keras.models import Sequential\n",
    "from keras.layers import Dense\n",
    "from keras.layers import LSTM\n",
    "from keras.layers import Dropout\n",
    "from keras.layers import Activation\n",
    "\n",
    "\n",
    "model = Sequential()\n",
    "model.add(LSTM(128,activation=\"sigmoid\",input_shape=(1,1)))\n",
    "model.add(Dropout(0.2))\n",
    "model.add(Dense(1))\n",
    "model.compile(loss='mean_squared_error', optimizer='adam')\n",
    "model.fit(X_train, y_train, epochs=100, batch_size=50, verbose=2)"
   ]
  },
  {
   "cell_type": "code",
   "execution_count": null,
   "metadata": {
    "_uuid": "a36a731741ef4705a04e7ceeb0be327e62dd20e1",
    "trusted": true
   },
   "outputs": [],
   "source": [
    "model.summary()"
   ]
  },
  {
   "cell_type": "code",
   "execution_count": null,
   "metadata": {
    "_kg_hide-input": true,
    "_uuid": "c35d7975f1097bf84cbc330abfcb4b2626d8057c",
    "scrolled": true,
    "trusted": true
   },
   "outputs": [],
   "source": [
    "# Making the predictions\n",
    "test_set = data_test.values\n",
    "inputs = np.reshape(test_set, (len(test_set), 1))\n",
    "inputs = sc.transform(inputs)\n",
    "inputs = np.reshape(inputs, (len(inputs), 1, 1))\n",
    "predicted_BTC_price = model.predict(inputs)\n",
    "predicted_BTC_price = sc.inverse_transform(predicted_BTC_price)"
   ]
  },
  {
   "cell_type": "code",
   "execution_count": null,
   "metadata": {
    "_uuid": "b773f381d73ec24eab8e4bb0a03569bed59cd31c",
    "trusted": true
   },
   "outputs": [],
   "source": [
    "data_test['Weighted_Price_Prediction'] = predicted_BTC_price\n",
    "data_all = pd.concat([data_test, data_train], sort=False)"
   ]
  },
  {
   "cell_type": "code",
   "execution_count": null,
   "metadata": {
    "_kg_hide-input": true,
    "_uuid": "abecfb9067f6fc2b37d2f8d1e5d79cfffbed0822",
    "trusted": true
   },
   "outputs": [],
   "source": [
    "#saving the predicted values in a common data frame for future comparision\n",
    "final_data = data_all\n",
    "final_data = final_data.reset_index()\n",
    "final_data = final_data.rename(columns={'Weighted_Price_Prediction': 'lstm'})\n",
    "final_data = final_data[['Timestamp','Weighted_Price','lstm']]"
   ]
  },
  {
   "cell_type": "code",
   "execution_count": null,
   "metadata": {
    "_uuid": "be2d523206b8f0afe965c033de530fe68b39a0e7",
    "trusted": true
   },
   "outputs": [],
   "source": [
    "_ = data_all[['Weighted_Price','Weighted_Price_Prediction']].plot(figsize=(15, 5))"
   ]
  },
  {
   "cell_type": "code",
   "execution_count": null,
   "metadata": {
    "_uuid": "93caf2de5c824caf06bb9a8a0ed97d6a922e8d4c",
    "trusted": true
   },
   "outputs": [],
   "source": [
    "# Plot the forecast with the actuals\n",
    "f, ax = plt.subplots(1)\n",
    "f.set_figheight(5)\n",
    "f.set_figwidth(15)\n",
    "_ = data_all[['Weighted_Price_Prediction','Weighted_Price']].plot(ax=ax,\n",
    "                                              style=['-','.'])\n",
    "ax.set_xbound(lower='08-01-2018', upper='09-01-2018')\n",
    "ax.set_ylim(0, 10000)\n",
    "plot = plt.suptitle('August 2018 Forecast vs Actuals')"
   ]
  },
  {
   "cell_type": "code",
   "execution_count": null,
   "metadata": {
    "_uuid": "dbcb45dff187ac1aee2fc491fc8f77fd9de68a6c",
    "scrolled": true,
    "trusted": true
   },
   "outputs": [],
   "source": [
    "# Plot the forecast with the actuals\n",
    "f, ax = plt.subplots(1)\n",
    "f.set_figheight(5)\n",
    "f.set_figwidth(15)\n",
    "_ = data_all[['Weighted_Price_Prediction','Weighted_Price']].plot(ax=ax,\n",
    "                                              style=['-','.'])\n",
    "ax.set_xbound(lower='08-01-2018', upper='08-08-2018')\n",
    "ax.set_ylim(0, 10000)\n",
    "plot = plt.suptitle('First Week of August 2018 Forecast vs Actuals')"
   ]
  },
  {
   "cell_type": "markdown",
   "metadata": {
    "_uuid": "1e6635c7e4632b4dd2c877dfbb7d31e4368bdaa2",
    "trusted": true
   },
   "source": [
    "Le MSE est de 2917,40 et le MAE est de 53,84"
   ]
  },
  {
   "cell_type": "code",
   "execution_count": null,
   "metadata": {
    "_uuid": "4837bb9ace022dee144fa82b873b3166ed031c8c",
    "trusted": true
   },
   "outputs": [],
   "source": [
    "#calculate MSE and MAE\n",
    "from sklearn.metrics import mean_squared_error, mean_absolute_error\n",
    "mean_squared_error(y_true=data_test['Weighted_Price'],\n",
    "                   y_pred=data_test['Weighted_Price_Prediction'])"
   ]
  },
  {
   "cell_type": "code",
   "execution_count": null,
   "metadata": {
    "_uuid": "bd814a48fed324b9774fa4c686b09c08cace7c03",
    "trusted": true
   },
   "outputs": [],
   "source": [
    "mean_absolute_error(y_true=data_test['Weighted_Price'],\n",
    "                   y_pred=data_test['Weighted_Price_Prediction'])"
   ]
  },
  {
   "cell_type": "markdown",
   "metadata": {
    "_uuid": "b4856c7bcac6216c34b12615321d096695104783"
   },
   "source": [
    "Nous pouvons clairement voir que le modèle entier est en sur apprentissage."
   ]
  },
  {
   "cell_type": "markdown",
   "metadata": {
    "_uuid": "52a4808619a4300d3e15defe07997466430143d0"
   },
   "source": [
    "**Prévision des séries temporelles avec XGBoost**\n",
    "\n",
    "XGBoost est une implémentation des arbres de décision boostés par gradient, conçue pour la rapidité et la performance. XGBoost est un outil puissant et polyvalent. Voyons comment XGBoost se comporte lorsqu'il est utilisé pour prédire les valeurs futures d'une série temporelle, comme les prix du Bitcoin."
   ]
  },
  {
   "cell_type": "code",
   "execution_count": null,
   "metadata": {
    "_uuid": "1edcd8b51cd72dcbf95f8a73aa8b3c5ef6a233e0",
    "trusted": true
   },
   "outputs": [],
   "source": [
    "import seaborn as sns\n",
    "import matplotlib.pyplot as plt\n",
    "from fbprophet import Prophet\n",
    "from sklearn.metrics import mean_squared_error, mean_absolute_error\n",
    "plt.style.use('fivethirtyeight')"
   ]
  },
  {
   "cell_type": "code",
   "execution_count": null,
   "metadata": {
    "_uuid": "f75f0418e3953ecab7b103b862a386dd9671340b",
    "trusted": true
   },
   "outputs": [],
   "source": [
    "data = pd.read_csv('../input/coinbaseUSD_1-min_data_2014-12-01_to_2018-11-11.csv',parse_dates=[0], date_parser=dateparse) \n",
    "data['Timestamp'] = data['Timestamp'].dt.tz_localize(None)\n",
    "data = data.groupby([pd.Grouper(key='Timestamp', freq='H')]).first().reset_index()\n",
    "data = data.set_index('Timestamp')\n",
    "data = data[['Weighted_Price']]\n",
    "data['Weighted_Price'].fillna(method='ffill', inplace=True)"
   ]
  },
  {
   "cell_type": "code",
   "execution_count": null,
   "metadata": {
    "_uuid": "8a57b70ae60f905e3221abd91028b9cf7d1c5639",
    "trusted": true
   },
   "outputs": [],
   "source": [
    "color_pal = [\"#F8766D\", \"#D39200\", \"#93AA00\", \"#00BA38\", \"#00C19F\", \"#00B9E3\", \"#619CFF\", \"#DB72FB\"]\n",
    "_ = data.plot(style='', figsize=(15,5), color=color_pal[0], title='BTC Weighted_Price Price (USD) by Hours')"
   ]
  },
  {
   "cell_type": "code",
   "execution_count": null,
   "metadata": {
    "_uuid": "2a980ff6a5f50a96b8e7fa6ef5bdf5295d1e427d",
    "trusted": true
   },
   "outputs": [],
   "source": [
    "split_date = '25-Jun-2018'\n",
    "data_train = data.loc[data.index <= split_date].copy()\n",
    "data_test = data.loc[data.index > split_date].copy()"
   ]
  },
  {
   "cell_type": "code",
   "execution_count": null,
   "metadata": {
    "_uuid": "a8b6635d3d4e4a62c79e0f6f641d133a9c796e7c",
    "trusted": true
   },
   "outputs": [],
   "source": [
    "_ = data_test \\\n",
    "    .rename(columns={'Weighted_Price': 'Test Set'}) \\\n",
    "    .join(data_train.rename(columns={'Weighted_Price': 'Training Set'}), how='outer') \\\n",
    "    .plot(figsize=(15,5), title='BTC Weighted_Price Price (USD) by Hours', style='')"
   ]
  },
  {
   "cell_type": "code",
   "execution_count": null,
   "metadata": {
    "_uuid": "0658d972f6c28a7c30c8b6214b1fcd1813a548aa",
    "trusted": true
   },
   "outputs": [],
   "source": [
    "def create_features(df, label=None):\n",
    "    \"\"\"\n",
    "    Creates time series features from datetime index\n",
    "    \"\"\"\n",
    "    df['date'] = df.index\n",
    "    df['hour'] = df['date'].dt.hour\n",
    "    df['dayofweek'] = df['date'].dt.dayofweek\n",
    "    df['quarter'] = df['date'].dt.quarter\n",
    "    df['month'] = df['date'].dt.month\n",
    "    df['year'] = df['date'].dt.year\n",
    "    df['dayofyear'] = df['date'].dt.dayofyear\n",
    "    df['dayofmonth'] = df['date'].dt.day\n",
    "    df['weekofyear'] = df['date'].dt.weekofyear\n",
    "    \n",
    "    X = df[['hour','dayofweek','quarter','month','year',\n",
    "           'dayofyear','dayofmonth','weekofyear']]\n",
    "    if label:\n",
    "        y = df[label]\n",
    "        return X, y\n",
    "    return X"
   ]
  },
  {
   "cell_type": "code",
   "execution_count": null,
   "metadata": {
    "_uuid": "02e290ff66262e56cea26d468ebee70f51d46c7d",
    "trusted": true
   },
   "outputs": [],
   "source": [
    "X_train, y_train = create_features(data_train, label='Weighted_Price')\n",
    "X_test, y_test = create_features(data_test, label='Weighted_Price')"
   ]
  },
  {
   "cell_type": "markdown",
   "metadata": {
    "_uuid": "8ac5ccb12aa2b94acd8f8e9410f906435cc8bd29"
   },
   "source": [
    "Ici, nous utilisons un modèle de base XGBRegressor,"
   ]
  },
  {
   "cell_type": "code",
   "execution_count": null,
   "metadata": {
    "_uuid": "d23cd9db3cf1d6fa04096bc860e2ade1b29ac5ee",
    "trusted": true
   },
   "outputs": [],
   "source": [
    "import xgboost as xgb\n",
    "from xgboost import plot_importance, plot_tree\n",
    "model =  xgb.XGBRegressor(objective ='reg:linear',min_child_weight=10, booster='gbtree', colsample_bytree = 0.3, learning_rate = 0.1,\n",
    "                max_depth = 5, alpha = 10, n_estimators = 100)\n",
    "model.fit(X_train, y_train,\n",
    "        eval_set=[(X_train, y_train), (X_test, y_test)],\n",
    "        early_stopping_rounds=50,\n",
    "       verbose=False) # Change verbose to True if you want to see it train"
   ]
  },
  {
   "cell_type": "code",
   "execution_count": null,
   "metadata": {
    "_uuid": "746e75f049b17c6f7966ed9dd732005100e759da",
    "trusted": true
   },
   "outputs": [],
   "source": [
    "data_test['Weighted_Price_Prediction'] = model.predict(X_test)\n",
    "data_all = pd.concat([data_test, data_train], sort=False)"
   ]
  },
  {
   "cell_type": "code",
   "execution_count": null,
   "metadata": {
    "_kg_hide-input": true,
    "_uuid": "11ff7d37c3c835169f55c50b8b74ea41d1e3437b",
    "trusted": true
   },
   "outputs": [],
   "source": [
    "#adding to final data for comparision\n",
    "final_data = pd.merge(final_data, data_all, sort=False)\n",
    "final_data = final_data.rename(columns={'Weighted_Price_Prediction': 'xgboost'})\n",
    "final_data = final_data[['Timestamp','Weighted_Price','lstm','xgboost']]"
   ]
  },
  {
   "cell_type": "code",
   "execution_count": null,
   "metadata": {
    "_uuid": "9c6bf59b53d84111f6b68fe3e8d43fc6472fc113",
    "trusted": true
   },
   "outputs": [],
   "source": [
    "_ = data_all[['Weighted_Price','Weighted_Price_Prediction']].plot(figsize=(15, 5))"
   ]
  },
  {
   "cell_type": "code",
   "execution_count": null,
   "metadata": {
    "_uuid": "1fb3c8725d398ffefec88be6b8167b9c37d12c1b",
    "trusted": true
   },
   "outputs": [],
   "source": [
    "# Plot the forecast with the actuals\n",
    "f, ax = plt.subplots(1)\n",
    "f.set_figheight(5)\n",
    "f.set_figwidth(15)\n",
    "_ = data_all[['Weighted_Price_Prediction','Weighted_Price']].plot(ax=ax,\n",
    "                                              style=['-','.'])\n",
    "ax.set_xbound(lower='08-01-2018', upper='09-01-2018')\n",
    "ax.set_ylim(0, 10000)\n",
    "plot = plt.suptitle('August 2018 Forecast vs Actuals')"
   ]
  },
  {
   "cell_type": "code",
   "execution_count": null,
   "metadata": {
    "_uuid": "b5be0d03c5a7d9c0ffc38ab060197e30ecfe1bc1",
    "trusted": true
   },
   "outputs": [],
   "source": [
    "# Plot the forecast with the actuals\n",
    "f, ax = plt.subplots(1)\n",
    "f.set_figheight(5)\n",
    "f.set_figwidth(15)\n",
    "_ = data_all[['Weighted_Price_Prediction','Weighted_Price']].plot(ax=ax,\n",
    "                                              style=['-','.'])\n",
    "ax.set_xbound(lower='08-01-2018', upper='08-08-2018')\n",
    "ax.set_ylim(0, 10000)\n",
    "plot = plt.suptitle('First Week of August 2018 Forecast vs Actuals')"
   ]
  },
  {
   "cell_type": "markdown",
   "metadata": {
    "_uuid": "e1ad5f57a8cd9c5248834bba5fa183d2309ab9a6",
    "trusted": true
   },
   "source": [
    "Le MSE est de 484 476,69 et le MAE est de 474,81"
   ]
  },
  {
   "cell_type": "code",
   "execution_count": null,
   "metadata": {
    "_uuid": "5b25ac90c1ae289e01fd2b4e3eed898ca4094673",
    "trusted": true
   },
   "outputs": [],
   "source": [
    "mean_squared_error(y_true=data_test['Weighted_Price'],\n",
    "                   y_pred=data_test['Weighted_Price_Prediction'])"
   ]
  },
  {
   "cell_type": "code",
   "execution_count": null,
   "metadata": {
    "_uuid": "c8fe56422c0630fe37a176ea7bddcf14792879cc",
    "trusted": true
   },
   "outputs": [],
   "source": [
    "mean_absolute_error(y_true=data_test['Weighted_Price'],\n",
    "                   y_pred=data_test['Weighted_Price_Prediction'])"
   ]
  },
  {
   "cell_type": "markdown",
   "metadata": {
    "_uuid": "57cc839b389a30d8f9e79a032f39d782d86ecaed"
   },
   "source": [
    "**Prévision des séries temporelles avec Prophet**\n",
    "\n",
    "Prophet est une procédure de prévision des données de séries temporelles basée sur un modèle additif où les tendances non linéaires s'ajustent avec une saisonnalité annuelle, hebdomadaire et quotidienne, ainsi que des effets de jours fériés. Il fonctionne particulièrement bien avec des séries temporelles qui présentent de forts effets saisonniers et plusieurs saisons de données historiques. Prophet est robuste face aux données manquantes et aux changements de tendance, et gère généralement bien les valeurs aberrantes.\n",
    "\n",
    "Le package Prophet offre des paramètres intuitifs qui sont faciles à ajuster. Même une personne ayant une expertise minimale en modèles de prévision peut l'utiliser pour réaliser des prédictions significatives pour divers problèmes dans un contexte d'entreprise.\n",
    "\n",
    "\n",
    "\n"
   ]
  },
  {
   "cell_type": "code",
   "execution_count": null,
   "metadata": {
    "_kg_hide-input": true,
    "_uuid": "5e16021ae3fbc07b34a6dbe58c14567fcc2e023f",
    "trusted": true
   },
   "outputs": [],
   "source": [
    "data = pd.read_csv('../input/coinbaseUSD_1-min_data_2014-12-01_to_2018-11-11.csv',parse_dates=[0], date_parser=dateparse) \n",
    "data['Timestamp'] = data['Timestamp'].dt.tz_localize(None)\n",
    "data = data.groupby([pd.Grouper(key='Timestamp', freq='H')]).first().reset_index()\n",
    "data = data.set_index('Timestamp')\n",
    "data = data[['Weighted_Price']]\n",
    "data['Weighted_Price'].fillna(method='ffill', inplace=True)"
   ]
  },
  {
   "cell_type": "code",
   "execution_count": null,
   "metadata": {
    "_uuid": "151194848a247376147e1d42b71d967d86c918ba",
    "trusted": true
   },
   "outputs": [],
   "source": [
    "color_pal = [\"#F8766D\", \"#D39200\", \"#93AA00\", \"#00BA38\", \"#00C19F\", \"#00B9E3\", \"#619CFF\", \"#DB72FB\"]\n",
    "_ = data.plot(style='', figsize=(15,5), color=color_pal[0], title='BTC Weighted_Price Price (USD) by Hours')"
   ]
  },
  {
   "cell_type": "code",
   "execution_count": null,
   "metadata": {
    "_uuid": "3756aca7226873c01a81a0b08069130ecba63004",
    "trusted": true
   },
   "outputs": [],
   "source": [
    "split_date = '25-Jun-2018'\n",
    "data_train = data.loc[data.index <= split_date].copy()\n",
    "data_test = data.loc[data.index > split_date].copy()"
   ]
  },
  {
   "cell_type": "code",
   "execution_count": null,
   "metadata": {
    "_kg_hide-input": true,
    "_uuid": "e4df47ce5c79fba34d323f45c6200f83df9e9704",
    "trusted": true
   },
   "outputs": [],
   "source": [
    "_ = data_test \\\n",
    "    .rename(columns={'Weighted_Price': 'Test Set'}) \\\n",
    "    .join(data_train.rename(columns={'Weighted_Price': 'Training Set'}), how='outer') \\\n",
    "    .plot(figsize=(15,5), title='BTC Weighted_Price Price (USD) by Hours', style='')"
   ]
  },
  {
   "cell_type": "code",
   "execution_count": null,
   "metadata": {
    "_uuid": "75052e1b36bd14d4c4774753bba9c44e666af9d7",
    "trusted": true
   },
   "outputs": [],
   "source": [
    "data_train = data_train.reset_index().rename(columns={'Timestamp':'ds', 'Weighted_Price':'y'})"
   ]
  },
  {
   "cell_type": "code",
   "execution_count": null,
   "metadata": {
    "_uuid": "258f1f6d9b8eda25bf38cd856cdb091e7df4f3ff",
    "trusted": true
   },
   "outputs": [],
   "source": [
    "# Setup and train model\n",
    "model = Prophet()\n",
    "model.fit(data_train)"
   ]
  },
  {
   "cell_type": "code",
   "execution_count": null,
   "metadata": {
    "_kg_hide-input": true,
    "_uuid": "2262aa4f54b48a8fdd6e43902fb47428285e2287",
    "trusted": true
   },
   "outputs": [],
   "source": [
    "# Predict on training set with model\n",
    "data_test_fcst = model.predict(df=data_test.reset_index().rename(columns={'Timestamp':'ds'}))"
   ]
  },
  {
   "cell_type": "code",
   "execution_count": null,
   "metadata": {
    "_uuid": "751766d2324b9ef101156c3d7992f047cffc28d4",
    "trusted": true
   },
   "outputs": [],
   "source": [
    "# Plot the forecast\n",
    "f, ax = plt.subplots(1)\n",
    "f.set_figheight(5)\n",
    "f.set_figwidth(15)\n",
    "fig = model.plot(data_test_fcst, ax=ax)"
   ]
  },
  {
   "cell_type": "code",
   "execution_count": null,
   "metadata": {
    "_uuid": "fc36c3b63c93fee3b499d31287bd499e3347cbe8",
    "trusted": true
   },
   "outputs": [],
   "source": [
    "# Plot the components\n",
    "fig = model.plot_components(data_test_fcst)"
   ]
  },
  {
   "cell_type": "code",
   "execution_count": null,
   "metadata": {
    "_kg_hide-input": true,
    "_uuid": "3bd8d3c471ad62e79ade782cef3e15e14aea1dfc",
    "trusted": true
   },
   "outputs": [],
   "source": [
    "# Plot the forecast with the actuals\n",
    "f, ax = plt.subplots(1)\n",
    "f.set_figheight(5)\n",
    "f.set_figwidth(15)\n",
    "ax.scatter(data_test.index, data_test['Weighted_Price'], color='r')\n",
    "fig = model.plot(data_test_fcst, ax=ax)"
   ]
  },
  {
   "cell_type": "code",
   "execution_count": null,
   "metadata": {
    "_kg_hide-input": true,
    "_uuid": "a6eeef79f1474d54576134b583602596ee382cf5",
    "trusted": true
   },
   "outputs": [],
   "source": [
    "#for comparision of predictions\n",
    "data_fcst = data_test_fcst\n",
    "data_fcst = data_fcst.rename(columns={'ds': 'Timestamp'})\n",
    "data_all = pd.concat([data_fcst, data_train], sort=False)\n",
    "final_data = pd.merge(final_data, data_all, sort=False)\n",
    "final_data = final_data.rename(columns={'yhat': 'prophet'})\n",
    "final_data = final_data[['Timestamp','Weighted_Price','lstm','xgboost','prophet']]"
   ]
  },
  {
   "cell_type": "code",
   "execution_count": null,
   "metadata": {
    "_kg_hide-input": true,
    "_uuid": "59ddc8d4bea71c02376957d50c0072f4adeb2b3c",
    "trusted": true
   },
   "outputs": [],
   "source": [
    "# Plot the forecast with the actuals\n",
    "f, ax = plt.subplots(1)\n",
    "f.set_figheight(5)\n",
    "f.set_figwidth(15)\n",
    "ax.scatter(data_test.index, data_test['Weighted_Price'], color='r')\n",
    "fig = model.plot(data_test_fcst, ax=ax)\n",
    "ax.set_xbound(lower='08-01-2018', upper='09-01-2018')\n",
    "ax.set_ylim(0, 10000)\n",
    "plot = plt.suptitle('August 2018 Forecast vs Actuals')"
   ]
  },
  {
   "cell_type": "code",
   "execution_count": null,
   "metadata": {
    "_uuid": "085353e26ab6b70569c37807daa37e92bf3140c2",
    "trusted": true
   },
   "outputs": [],
   "source": [
    "# Plot the forecast with the actuals\n",
    "f, ax = plt.subplots(1)\n",
    "f.set_figheight(5)\n",
    "f.set_figwidth(15)\n",
    "ax.scatter(data_test.index, data_test['Weighted_Price'], color='r')\n",
    "fig = model.plot(data_test_fcst, ax=ax)\n",
    "ax.set_xbound(lower='08-01-2018', upper='08-08-2018')\n",
    "ax.set_ylim(0, 10000)\n",
    "plot = plt.suptitle('First Week of August 2018 Forecast vs Actuals')"
   ]
  },
  {
   "cell_type": "markdown",
   "metadata": {
    "_uuid": "6afc7c9907c46e87079c3e81894d648453ff1a4a"
   },
   "source": [
    "Le MSE est de 3 654 149,48 et le MAE est de 1 678,49."
   ]
  },
  {
   "cell_type": "code",
   "execution_count": null,
   "metadata": {
    "_uuid": "349e882cbf5e18f581e1e2e89efad1f91f262173",
    "trusted": true
   },
   "outputs": [],
   "source": [
    "mean_squared_error(y_true=data_test['Weighted_Price'],\n",
    "                   y_pred=data_test_fcst['yhat'])"
   ]
  },
  {
   "cell_type": "code",
   "execution_count": null,
   "metadata": {
    "_uuid": "e6c5b9f20fb3c7e50af651311e8d8b8bb3324d5b",
    "trusted": true
   },
   "outputs": [],
   "source": [
    "mean_absolute_error(y_true=data_test['Weighted_Price'],\n",
    "                   y_pred=data_test_fcst['yhat'])"
   ]
  },
  {
   "cell_type": "markdown",
   "metadata": {
    "_uuid": "5de5fe8cc170c15fc7c1a8839d6c2ae8128890a4"
   },
   "source": [
    "**LSTM, XGBoost et Prophet - Quelle est leur efficacité ?**\n",
    "\n",
    "Ici, visualisons et comparons les résultats prédictifs de LSTM, XGBoost et Prophet dans un seul graphique."
   ]
  },
  {
   "cell_type": "code",
   "execution_count": null,
   "metadata": {
    "_kg_hide-input": true,
    "_uuid": "791f7710f286fd454c90e933fd58d16b2919d5ea",
    "trusted": true
   },
   "outputs": [],
   "source": [
    "# Create traces\n",
    "trace0 = go.Scatter(\n",
    "    x = final_data['Timestamp'],\n",
    "    y = final_data['Weighted_Price'],\n",
    "    mode = 'lines+markers',\n",
    "    name = 'Real Price'\n",
    ")\n",
    "trace1 = go.Scatter(\n",
    "    x = final_data['Timestamp'],\n",
    "    y = final_data['lstm'],\n",
    "    mode = 'lines+markers',\n",
    "    name = 'LSTM Prediction'\n",
    ")\n",
    "trace2 = go.Scatter(\n",
    "    x = final_data['Timestamp'],\n",
    "    y = final_data['xgboost'],\n",
    "    mode = 'lines+markers',\n",
    "    name = 'XGBoost Prediction'\n",
    ")\n",
    "trace3 = go.Scatter(\n",
    "    x = final_data['Timestamp'],\n",
    "    y = final_data['prophet'],\n",
    "    mode = 'lines+markers',\n",
    "    name = 'Prophet Prediction'\n",
    ")\n",
    "\n",
    "# Edit the layout\n",
    "layout = dict(title = 'Comparision of LSTM,XGBoost and Prophet',\n",
    "              xaxis = dict(title = 'Month'),\n",
    "              yaxis = dict(title = 'Prices (USD)'),\n",
    "              )\n",
    "\n",
    "data = [trace0, trace1, trace2, trace3]\n",
    "fig = dict(data=data, layout=layout)\n",
    "iplot(fig, filename='styled-line')"
   ]
  },
  {
   "cell_type": "markdown",
   "metadata": {
    "_uuid": "e19460054d76175caba182cf858b2e85f4fb1575"
   },
   "source": [
    "**Prévision des séries temporelles avec ARIMA**\n",
    "\n",
    "ARIMA est un acronyme qui signifie AutoRegressive Integrated Moving Average (moyenne mobile intégrée autorégressive). C'est une classe de modèles qui capture un ensemble de différentes structures temporelles standard dans les données de séries temporelles.\n",
    "Cet acronyme est descriptif et capture les aspects clés du modèle lui-même. En résumé, il s'agit de :\n",
    "* AR : Autoregression. Un modèle qui utilise la relation de dépendance entre une observation et un certain nombre d'observations décalées.\n",
    "* I : Intégré. L'utilisation de la différenciation des observations brutes (par exemple, soustraire une observation de celle de l'étape temporelle précédente) afin de rendre la série temporelle stationnaire.\n",
    "* MA : Moyenne mobile. Un modèle qui utilise la dépendance entre une observation et une erreur résiduelle provenant d'un modèle de moyenne mobile appliqué aux observations décalées.\n"
   ]
  },
  {
   "cell_type": "code",
   "execution_count": null,
   "metadata": {
    "_uuid": "ebd1047cfde2a8b5c7e1b0672b9d8ad90a0453be",
    "trusted": true
   },
   "outputs": [],
   "source": [
    "from scipy import stats\n",
    "import statsmodels.api as sm\n",
    "import warnings\n",
    "from itertools import product"
   ]
  },
  {
   "cell_type": "code",
   "execution_count": null,
   "metadata": {
    "_uuid": "e017e0b96e7516af782321f9880b313686a73804",
    "trusted": true
   },
   "outputs": [],
   "source": [
    "data = pd.read_csv('../input/coinbaseUSD_1-min_data_2014-12-01_to_2018-11-11.csv',parse_dates=[0], date_parser=dateparse) "
   ]
  },
  {
   "cell_type": "code",
   "execution_count": null,
   "metadata": {
    "_kg_hide-input": true,
    "_uuid": "94abf7cc7e5c9f5bd9a6dd137a667f9886b31572",
    "trusted": true
   },
   "outputs": [],
   "source": [
    "data['Open'].fillna(method='ffill', inplace=True)\n",
    "data['High'].fillna(method='ffill', inplace=True)\n",
    "data['Low'].fillna(method='ffill', inplace=True)\n",
    "data['Close'].fillna(method='ffill', inplace=True)\n",
    "data['Weighted_Price'].fillna(method='ffill', inplace=True)\n",
    "data['Volume_(BTC)'].fillna(method='ffill', inplace=True)\n",
    "data['Volume_(Currency)'].fillna(method='ffill', inplace=True)"
   ]
  },
  {
   "cell_type": "code",
   "execution_count": null,
   "metadata": {
    "_uuid": "3cbde8704fc5ccbbe8a2a43efa65e4f18b1bd8a2",
    "trusted": true
   },
   "outputs": [],
   "source": [
    "plt.figure(figsize=[20,8])\n",
    "plt.title('BTC Weighted_Price Price (USD) by Hours')\n",
    "plt.plot(data.Weighted_Price, '-', label='By Hours')"
   ]
  },
  {
   "cell_type": "markdown",
   "metadata": {
    "_uuid": "d8b41633b7d14c6eba2100430642b61e1de9ab06"
   },
   "source": [
    "Dans les sections précédentes sur LSTM, XGBoost et Prophet, nous avons utilisé des données horaires pour entraîner le modèle. Mais ici, nous utiliserons des données mensuelles (pour la saisonnalité)."
   ]
  },
  {
   "cell_type": "code",
   "execution_count": null,
   "metadata": {
    "_kg_hide-input": true,
    "_uuid": "fed72a27bc6fb69596e3e65a28eaca3101d4611b",
    "trusted": true
   },
   "outputs": [],
   "source": [
    "data['Timestamp'] = data['Timestamp'].dt.tz_localize(None)\n",
    "data = data.groupby([pd.Grouper(key='Timestamp', freq='M')]).first().reset_index()\n",
    "data = data.set_index('Timestamp')\n",
    "data['Weighted_Price'].fillna(method='ffill', inplace=True)"
   ]
  },
  {
   "cell_type": "code",
   "execution_count": null,
   "metadata": {
    "_kg_hide-input": true,
    "_uuid": "10c3b2bc38dc8abdcb2b7639897c7b5827dba8f2",
    "trusted": true
   },
   "outputs": [],
   "source": [
    "plt.figure(figsize=[20,8])\n",
    "plt.title('BTC Weighted_Price Price (USD) by Months')\n",
    "plt.plot(data.Weighted_Price, '-', label='By Months')"
   ]
  },
  {
   "cell_type": "code",
   "execution_count": null,
   "metadata": {
    "_uuid": "fddea8cdb1cba357d432a905fd9d0d6117292f9d",
    "trusted": true
   },
   "outputs": [],
   "source": [
    "decomposition = sm.tsa.seasonal_decompose(data.Weighted_Price)\n",
    "\n",
    "trend = decomposition.trend\n",
    "seasonal = decomposition.seasonal\n",
    "residual = decomposition.resid\n",
    "\n",
    "fig = plt.figure(figsize=(20,8))\n",
    "\n",
    "plt.subplot(411)\n",
    "plt.plot(data.Weighted_Price, label='Original')\n",
    "plt.legend(loc='best')\n",
    "plt.subplot(412)\n",
    "plt.plot(trend, label='Trend')\n",
    "plt.legend(loc='best')\n",
    "plt.subplot(413)\n",
    "plt.plot(seasonal,label='Seasonality')\n",
    "plt.legend(loc='best')\n",
    "plt.subplot(414)\n",
    "plt.plot(residual, label='Residuals')\n",
    "plt.legend(loc='best')\n",
    "\n",
    "fig.suptitle('Decomposition of Prices Data')\n",
    "plt.show()"
   ]
  },
  {
   "cell_type": "code",
   "execution_count": null,
   "metadata": {
    "_uuid": "595ea382b9ad739adccb9c133da16f8bac520522",
    "trusted": true
   },
   "outputs": [],
   "source": [
    "print(\"Dickey–Fuller test: p=%f\" % sm.tsa.stattools.adfuller(data.Weighted_Price)[1])"
   ]
  },
  {
   "cell_type": "code",
   "execution_count": null,
   "metadata": {
    "_uuid": "362f9251d62f5696a1a768c07663b360f38e1854",
    "trusted": true
   },
   "outputs": [],
   "source": [
    "from statsmodels.graphics.tsaplots import plot_acf\n",
    "from statsmodels.graphics.tsaplots import plot_pacf\n",
    "from matplotlib import pyplot\n",
    "pyplot.figure(figsize=(20,8))\n",
    "pyplot.subplot(211)\n",
    "plot_acf(data.Weighted_Price, ax=pyplot.gca(),lags=40)\n",
    "pyplot.subplot(212)\n",
    "plot_pacf(data.Weighted_Price, ax=pyplot.gca(), lags=50)\n",
    "pyplot.show()"
   ]
  },
  {
   "cell_type": "markdown",
   "metadata": {
    "_uuid": "4558087e2805d6bfe0f6afa43f231415b334e150"
   },
   "source": [
    "Voici le modèle ARIMA en espace d'états, le meilleur modèle est sélectionné en utilisant différents paramètres."
   ]
  },
  {
   "cell_type": "code",
   "execution_count": null,
   "metadata": {
    "_uuid": "f9fc7bfd604b3f290353a883cd7b98e5863d7766",
    "trusted": true
   },
   "outputs": [],
   "source": [
    "# Initial approximation of parameters\n",
    "Qs = range(0, 2)\n",
    "qs = range(0, 3)\n",
    "Ps = range(0, 3)\n",
    "ps = range(0, 3)\n",
    "D=1\n",
    "d=1\n",
    "parameters = product(ps, qs, Ps, Qs)\n",
    "parameters_list = list(parameters)\n",
    "len(parameters_list)\n",
    "\n",
    "# Model Selection\n",
    "results = []\n",
    "best_aic = float(\"inf\")\n",
    "warnings.filterwarnings('ignore')\n",
    "for param in parameters_list:\n",
    "    try:\n",
    "        model=sm.tsa.statespace.SARIMAX(data.Weighted_Price, order=(param[0], d, param[1]), \n",
    "                                        seasonal_order=(param[2], D, param[3], 12),enforce_stationarity=False,\n",
    "                                            enforce_invertibility=False).fit(disp=-1)\n",
    "    except ValueError:\n",
    "        #print('wrong parameters:', param)\n",
    "        continue\n",
    "    aic = model.aic\n",
    "    if aic < best_aic:\n",
    "        best_model = model\n",
    "        best_aic = aic\n",
    "        best_param = param\n",
    "    results.append([param, model.aic])"
   ]
  },
  {
   "cell_type": "code",
   "execution_count": null,
   "metadata": {
    "_kg_hide-input": true,
    "_uuid": "6a9207379fba415afc4f91e9b034a548a1be3583",
    "trusted": true
   },
   "outputs": [],
   "source": [
    "# Best Models\n",
    "result_table = pd.DataFrame(results)\n",
    "result_table.columns = ['parameters', 'aic']\n",
    "print(result_table.sort_values(by = 'aic', ascending=True).head())\n",
    "print(best_model.summary())"
   ]
  },
  {
   "cell_type": "code",
   "execution_count": null,
   "metadata": {
    "_uuid": "b21b0110f732132440a87d62143f8de8753b4d73",
    "trusted": true
   },
   "outputs": [],
   "source": [
    "fig = plt.figure(figsize=(20,8))\n",
    "best_model.resid.plot()\n",
    "fig.suptitle('Residual Plot of the Best Model')\n",
    "print(\"Dickey–Fuller test:: p=%f\" % sm.tsa.stattools.adfuller(best_model.resid)[1])"
   ]
  },
  {
   "cell_type": "code",
   "execution_count": null,
   "metadata": {
    "_uuid": "3d6e6e75da4e04c73c076561f616fdc4cbabcc1f",
    "trusted": true
   },
   "outputs": [],
   "source": [
    "df_month2 = data[['Weighted_Price']]\n",
    "future = pd.DataFrame()\n",
    "df_month2 = pd.concat([df_month2, future])\n",
    "df_month2['forecast'] = best_model.predict(start=0, end=200)\n",
    "plt.figure(figsize=(15,7))\n",
    "df_month2.Weighted_Price.plot()\n",
    "df_month2.forecast.plot(color='r', ls='--', label='Predicted Weighted_Price')\n",
    "plt.legend()\n",
    "plt.title('Bitcoin Prices (USD) Predicted vs Actuals, by months')\n",
    "plt.ylabel('mean USD')\n",
    "plt.show()"
   ]
  },
  {
   "cell_type": "code",
   "execution_count": null,
   "metadata": {
    "_kg_hide-input": true,
    "_uuid": "22c147ad840a8a7a13ec17f7fbb935979e8e7216",
    "trusted": true
   },
   "outputs": [],
   "source": [
    "# from scipy import stats\n",
    "# import statsmodels.api as sm\n",
    "# import warnings\n",
    "# from itertools import product"
   ]
  },
  {
   "cell_type": "code",
   "execution_count": null,
   "metadata": {
    "_kg_hide-input": true,
    "_uuid": "d601479dd54a72572a32de42284741b9499819cf",
    "trusted": true
   },
   "outputs": [],
   "source": [
    "# data = pd.read_csv('../input/coinbaseUSD_1-min_data_2014-12-01_to_2018-11-11.csv',parse_dates=[0], date_parser=dateparse) \n",
    "# data.head()"
   ]
  },
  {
   "cell_type": "code",
   "execution_count": null,
   "metadata": {
    "_kg_hide-input": true,
    "_uuid": "c8a67e2b9fcd595a913016a30ff8feb1a857d763",
    "trusted": true
   },
   "outputs": [],
   "source": [
    "# data['Timestamp'] = data['Timestamp'].dt.tz_localize(None)\n",
    "# data = data.groupby([pd.Grouper(key='Timestamp', freq='M')]).first().reset_index()\n",
    "# data = data.set_index('Timestamp')\n",
    "# data['Weighted_Price'].fillna(method='ffill', inplace=True)"
   ]
  },
  {
   "cell_type": "code",
   "execution_count": null,
   "metadata": {
    "_kg_hide-input": true,
    "_uuid": "3b4ac367b57ce60cb896d9efcc613404e6961664",
    "trusted": true
   },
   "outputs": [],
   "source": [
    "# plt.figure(figsize=[20,8])\n",
    "# plt.title('BTC Weighted_Price Price (USD) by Months')\n",
    "# plt.plot(data.Weighted_Price, '-', label='By Months')"
   ]
  },
  {
   "cell_type": "markdown",
   "metadata": {
    "_uuid": "7d7e1d81fb5b92b762f9687edcbf948ceb2e8465"
   },
   "source": [
    "Nous pouvons voir comment les modèles ci-dessus se comportent avec les données historiques des prix du Bitcoin. La prédiction n'est pas bonne. Les prix du Bitcoin sont très volatils et très aléatoires, et sont souvent influencés par des facteurs externes (ou des nouvelles) tels que les régulations sur les cryptomonnaies, les investissements ou de simples rumeurs sur les réseaux sociaux. Nous avons besoin de données supplémentaires provenant des actualités ou des réseaux sociaux pour que ces modèles fonctionnent mieux et de manière plus précise.\n"
   ]
  }
 ],
 "metadata": {
  "kernelspec": {
   "display_name": "base",
   "language": "python",
   "name": "python3"
  },
  "language_info": {
   "codemirror_mode": {
    "name": "ipython",
    "version": 3
   },
   "file_extension": ".py",
   "mimetype": "text/x-python",
   "name": "python",
   "nbconvert_exporter": "python",
   "pygments_lexer": "ipython3",
   "version": "3.11.7"
  }
 },
 "nbformat": 4,
 "nbformat_minor": 4
}
