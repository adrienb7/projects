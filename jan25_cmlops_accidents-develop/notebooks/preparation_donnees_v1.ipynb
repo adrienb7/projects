{
 "cells": [
  {
   "cell_type": "markdown",
   "metadata": {},
   "source": [
    "## Notebook de préparation des données v1 "
   ]
  },
  {
   "cell_type": "markdown",
   "metadata": {},
   "source": [
    "Objectif : créer un unique dataset à partir des datasets présents sur data.gouv.fr \n",
    "- Nous avons choisi, pour l'instant, de créer un dataset qui comprends les données sur des accidents de 2019 à 2023 (5 ans) "
   ]
  },
  {
   "cell_type": "code",
   "execution_count": 1,
   "metadata": {},
   "outputs": [],
   "source": [
    "import pandas as pd"
   ]
  },
  {
   "cell_type": "code",
   "execution_count": 3,
   "metadata": {},
   "outputs": [],
   "source": [
    "\n",
    "data_path = r\"C:\\Users\\Adrien\\Downloads\"\n",
    "\n",
    "# Lecture des fichiers CSV\n",
    "df_usagers_2019 = pd.read_csv(f\"{data_path}\\\\usagers-2019.csv\", dtype=str, sep=\";\")\n",
    "df_lieux_2019 = pd.read_csv(f\"{data_path}\\\\lieux-2019.csv\", dtype=str, sep=\";\")\n",
    "df_vehicules_2019 = pd.read_csv(f\"{data_path}\\\\vehicules-2019.csv\", dtype=str, sep=\";\")\n",
    "df_caracteristiques_2019 = pd.read_csv(f\"{data_path}\\\\caracteristiques-2019.csv\", dtype=str, sep=\";\")\n",
    "\n"
   ]
  },
  {
   "cell_type": "code",
   "execution_count": 4,
   "metadata": {},
   "outputs": [
    {
     "data": {
      "text/html": [
       "<div>\n",
       "<style scoped>\n",
       "    .dataframe tbody tr th:only-of-type {\n",
       "        vertical-align: middle;\n",
       "    }\n",
       "\n",
       "    .dataframe tbody tr th {\n",
       "        vertical-align: top;\n",
       "    }\n",
       "\n",
       "    .dataframe thead th {\n",
       "        text-align: right;\n",
       "    }\n",
       "</style>\n",
       "<table border=\"1\" class=\"dataframe\">\n",
       "  <thead>\n",
       "    <tr style=\"text-align: right;\">\n",
       "      <th></th>\n",
       "      <th>Num_Acc</th>\n",
       "      <th>jour</th>\n",
       "      <th>mois</th>\n",
       "      <th>an</th>\n",
       "      <th>hrmn</th>\n",
       "      <th>lum</th>\n",
       "      <th>dep</th>\n",
       "      <th>com</th>\n",
       "      <th>agg</th>\n",
       "      <th>int</th>\n",
       "      <th>...</th>\n",
       "      <th>grav</th>\n",
       "      <th>sexe</th>\n",
       "      <th>an_nais</th>\n",
       "      <th>trajet</th>\n",
       "      <th>secu1</th>\n",
       "      <th>secu2</th>\n",
       "      <th>secu3</th>\n",
       "      <th>locp</th>\n",
       "      <th>actp</th>\n",
       "      <th>etatp</th>\n",
       "    </tr>\n",
       "  </thead>\n",
       "  <tbody>\n",
       "    <tr>\n",
       "      <th>132972</th>\n",
       "      <td>201900058837</td>\n",
       "      <td>27</td>\n",
       "      <td>11</td>\n",
       "      <td>2019</td>\n",
       "      <td>07:50</td>\n",
       "      <td>1</td>\n",
       "      <td>67</td>\n",
       "      <td>67482</td>\n",
       "      <td>1</td>\n",
       "      <td>1</td>\n",
       "      <td>...</td>\n",
       "      <td>4</td>\n",
       "      <td>2</td>\n",
       "      <td>1988</td>\n",
       "      <td>1</td>\n",
       "      <td>1</td>\n",
       "      <td>0</td>\n",
       "      <td>-1</td>\n",
       "      <td>-1</td>\n",
       "      <td>-1</td>\n",
       "      <td>-1</td>\n",
       "    </tr>\n",
       "    <tr>\n",
       "      <th>132973</th>\n",
       "      <td>201900058838</td>\n",
       "      <td>30</td>\n",
       "      <td>11</td>\n",
       "      <td>2019</td>\n",
       "      <td>02:41</td>\n",
       "      <td>4</td>\n",
       "      <td>94</td>\n",
       "      <td>94021</td>\n",
       "      <td>1</td>\n",
       "      <td>1</td>\n",
       "      <td>...</td>\n",
       "      <td>4</td>\n",
       "      <td>1</td>\n",
       "      <td>1998</td>\n",
       "      <td>9</td>\n",
       "      <td>1</td>\n",
       "      <td>0</td>\n",
       "      <td>-1</td>\n",
       "      <td>-1</td>\n",
       "      <td>-1</td>\n",
       "      <td>-1</td>\n",
       "    </tr>\n",
       "    <tr>\n",
       "      <th>132974</th>\n",
       "      <td>201900058839</td>\n",
       "      <td>30</td>\n",
       "      <td>11</td>\n",
       "      <td>2019</td>\n",
       "      <td>15:20</td>\n",
       "      <td>1</td>\n",
       "      <td>78</td>\n",
       "      <td>78640</td>\n",
       "      <td>1</td>\n",
       "      <td>1</td>\n",
       "      <td>...</td>\n",
       "      <td>3</td>\n",
       "      <td>1</td>\n",
       "      <td>1979</td>\n",
       "      <td>0</td>\n",
       "      <td>2</td>\n",
       "      <td>0</td>\n",
       "      <td>-1</td>\n",
       "      <td>-1</td>\n",
       "      <td>-1</td>\n",
       "      <td>-1</td>\n",
       "    </tr>\n",
       "    <tr>\n",
       "      <th>132975</th>\n",
       "      <td>201900058840</td>\n",
       "      <td>29</td>\n",
       "      <td>11</td>\n",
       "      <td>2019</td>\n",
       "      <td>20:50</td>\n",
       "      <td>3</td>\n",
       "      <td>92</td>\n",
       "      <td>92047</td>\n",
       "      <td>1</td>\n",
       "      <td>1</td>\n",
       "      <td>...</td>\n",
       "      <td>4</td>\n",
       "      <td>1</td>\n",
       "      <td>1974</td>\n",
       "      <td>0</td>\n",
       "      <td>1</td>\n",
       "      <td>0</td>\n",
       "      <td>-1</td>\n",
       "      <td>-1</td>\n",
       "      <td>0</td>\n",
       "      <td>-1</td>\n",
       "    </tr>\n",
       "    <tr>\n",
       "      <th>132976</th>\n",
       "      <td>201900058840</td>\n",
       "      <td>29</td>\n",
       "      <td>11</td>\n",
       "      <td>2019</td>\n",
       "      <td>20:50</td>\n",
       "      <td>3</td>\n",
       "      <td>92</td>\n",
       "      <td>92047</td>\n",
       "      <td>1</td>\n",
       "      <td>1</td>\n",
       "      <td>...</td>\n",
       "      <td>1</td>\n",
       "      <td>1</td>\n",
       "      <td>1971</td>\n",
       "      <td>0</td>\n",
       "      <td>1</td>\n",
       "      <td>-1</td>\n",
       "      <td>-1</td>\n",
       "      <td>0</td>\n",
       "      <td>0</td>\n",
       "      <td>-1</td>\n",
       "    </tr>\n",
       "  </tbody>\n",
       "</table>\n",
       "<p>5 rows × 55 columns</p>\n",
       "</div>"
      ],
      "text/plain": [
       "             Num_Acc jour mois    an   hrmn lum dep    com agg int  ... grav  \\\n",
       "132972  201900058837   27   11  2019  07:50   1  67  67482   1   1  ...    4   \n",
       "132973  201900058838   30   11  2019  02:41   4  94  94021   1   1  ...    4   \n",
       "132974  201900058839   30   11  2019  15:20   1  78  78640   1   1  ...    3   \n",
       "132975  201900058840   29   11  2019  20:50   3  92  92047   1   1  ...    4   \n",
       "132976  201900058840   29   11  2019  20:50   3  92  92047   1   1  ...    1   \n",
       "\n",
       "       sexe an_nais trajet secu1 secu2 secu3 locp actp etatp  \n",
       "132972    2    1988      1     1     0    -1   -1   -1    -1  \n",
       "132973    1    1998      9     1     0    -1   -1   -1    -1  \n",
       "132974    1    1979      0     2     0    -1   -1   -1    -1  \n",
       "132975    1    1974      0     1     0    -1   -1    0    -1  \n",
       "132976    1    1971      0     1    -1    -1    0    0    -1  \n",
       "\n",
       "[5 rows x 55 columns]"
      ]
     },
     "execution_count": 4,
     "metadata": {},
     "output_type": "execute_result"
    }
   ],
   "source": [
    "# Merge des datatsets de 2019 sur \"Num_Acc\"\n",
    "df_2019 = df_caracteristiques_2019.merge(df_lieux_2019, on=\"Num_Acc\")\\\n",
    "                                  .merge(df_vehicules_2019, on=\"Num_Acc\")\\\n",
    "                                  .merge(df_usagers_2019, on=[\"Num_Acc\", \"id_vehicule\"])\n",
    "df_2019.tail()"
   ]
  },
  {
   "cell_type": "code",
   "execution_count": 5,
   "metadata": {},
   "outputs": [],
   "source": [
    "#  Fusion des fichiers de 2020\n",
    "df_usagers_2020 = pd.read_csv(f\"{data_path}\\\\usagers-2020.csv\", dtype=str, sep=\";\")\n",
    "df_lieux_2020 = pd.read_csv(f\"{data_path}\\\\lieux-2020.csv\", dtype=str, sep=\";\")\n",
    "df_vehicules_2020 = pd.read_csv(f\"{data_path}\\\\vehicules-2020.csv\", dtype=str, sep=\";\")\n",
    "df_caracteristiques_2020 = pd.read_csv(f\"{data_path}\\\\caracteristiques-2020.csv\", dtype=str, sep=\";\")\n",
    "\n",
    "df_2020 = df_caracteristiques_2020.merge(df_lieux_2020, on=\"Num_Acc\")\\\n",
    "                                  .merge(df_vehicules_2020, on=\"Num_Acc\")\\\n",
    "                                  .merge(df_usagers_2020, on=[\"Num_Acc\", \"id_vehicule\"])"
   ]
  },
  {
   "cell_type": "code",
   "execution_count": 6,
   "metadata": {},
   "outputs": [],
   "source": [
    "# Fusion des fichiers de 2021\n",
    "df_usagers_2021 = pd.read_csv(f\"{data_path}\\\\usagers-2021.csv\", dtype=str, sep=\";\")\n",
    "df_lieux_2021 = pd.read_csv(f\"{data_path}\\\\lieux-2021.csv\", dtype=str, sep=\";\")\n",
    "df_vehicules_2021 = pd.read_csv(f\"{data_path}\\\\vehicules-2021.csv\", dtype=str, sep=\";\")\n",
    "df_caracteristiques_2021 = pd.read_csv(f\"{data_path}\\\\caracteristiques-2021.csv\", dtype=str, sep=\";\")\n",
    "\n",
    "df_2021 = df_caracteristiques_2021.merge(df_lieux_2021, on=\"Num_Acc\")\\\n",
    "                                  .merge(df_vehicules_2021, on=\"Num_Acc\")\\\n",
    "                                  .merge(df_usagers_2021, on=[\"Num_Acc\", \"id_vehicule\"])"
   ]
  },
  {
   "cell_type": "code",
   "execution_count": 7,
   "metadata": {},
   "outputs": [],
   "source": [
    "#  Fusion des fichiers de 2022\n",
    "df_usagers_2022 = pd.read_csv(f\"{data_path}\\\\usagers-2022.csv\", dtype=str, sep=\";\")\n",
    "df_lieux_2022 = pd.read_csv(f\"{data_path}\\\\lieux-2022.csv\", dtype=str, sep=\";\")\n",
    "df_vehicules_2022 = pd.read_csv(f\"{data_path}\\\\vehicules-2022.csv\", dtype=str, sep=\";\")\n",
    "df_caracteristiques_2022 = pd.read_csv(f\"{data_path}\\\\caracteristiques-2022.csv\", dtype=str, sep=\";\")\n",
    "\n",
    "df_caracteristiques_2022.rename(columns={\"Accident_Id\": \"Num_Acc\"}, inplace=True)\n",
    "\n",
    "df_2022 = df_caracteristiques_2022.merge(df_lieux_2022, on=\"Num_Acc\")\\\n",
    "                                  .merge(df_vehicules_2022, on=\"Num_Acc\")\\\n",
    "                                  .merge(df_usagers_2022, on=[\"Num_Acc\", \"id_vehicule\"])\n"
   ]
  },
  {
   "cell_type": "code",
   "execution_count": 8,
   "metadata": {},
   "outputs": [],
   "source": [
    "df_usagers_2023 = pd.read_csv(f\"{data_path}\\\\usagers-2023.csv\", dtype=str, sep=\";\")\n",
    "df_lieux_2023 = pd.read_csv(f\"{data_path}\\\\lieux-2023.csv\", dtype=str, sep=\";\")\n",
    "df_vehicules_2023 = pd.read_csv(f\"{data_path}\\\\vehicules-2023.csv\", dtype=str, sep=\";\")\n",
    "df_caracteristiques_2023 = pd.read_csv(f\"{data_path}\\\\caracteristiques-2023.csv\", dtype=str, sep=\";\")\n",
    "\n",
    "df_2023 = df_caracteristiques_2023.merge(df_lieux_2023, on=\"Num_Acc\")\\\n",
    "                                  .merge(df_vehicules_2023, on=\"Num_Acc\")\\\n",
    "                                  .merge(df_usagers_2023, on=[\"Num_Acc\", \"id_vehicule\"])"
   ]
  },
  {
   "cell_type": "code",
   "execution_count": 9,
   "metadata": {},
   "outputs": [
    {
     "data": {
      "text/html": [
       "<div>\n",
       "<style scoped>\n",
       "    .dataframe tbody tr th:only-of-type {\n",
       "        vertical-align: middle;\n",
       "    }\n",
       "\n",
       "    .dataframe tbody tr th {\n",
       "        vertical-align: top;\n",
       "    }\n",
       "\n",
       "    .dataframe thead th {\n",
       "        text-align: right;\n",
       "    }\n",
       "</style>\n",
       "<table border=\"1\" class=\"dataframe\">\n",
       "  <thead>\n",
       "    <tr style=\"text-align: right;\">\n",
       "      <th></th>\n",
       "      <th>Num_Acc</th>\n",
       "      <th>jour</th>\n",
       "      <th>mois</th>\n",
       "      <th>an</th>\n",
       "      <th>hrmn</th>\n",
       "      <th>lum</th>\n",
       "      <th>dep</th>\n",
       "      <th>com</th>\n",
       "      <th>agg</th>\n",
       "      <th>int</th>\n",
       "      <th>...</th>\n",
       "      <th>sexe</th>\n",
       "      <th>an_nais</th>\n",
       "      <th>trajet</th>\n",
       "      <th>secu1</th>\n",
       "      <th>secu2</th>\n",
       "      <th>secu3</th>\n",
       "      <th>locp</th>\n",
       "      <th>actp</th>\n",
       "      <th>etatp</th>\n",
       "      <th>id_usager</th>\n",
       "    </tr>\n",
       "  </thead>\n",
       "  <tbody>\n",
       "    <tr>\n",
       "      <th>0</th>\n",
       "      <td>201900000001</td>\n",
       "      <td>30</td>\n",
       "      <td>11</td>\n",
       "      <td>2019</td>\n",
       "      <td>01:30</td>\n",
       "      <td>4</td>\n",
       "      <td>93</td>\n",
       "      <td>93053</td>\n",
       "      <td>1</td>\n",
       "      <td>1</td>\n",
       "      <td>...</td>\n",
       "      <td>2</td>\n",
       "      <td>2002</td>\n",
       "      <td>0</td>\n",
       "      <td>1</td>\n",
       "      <td>0</td>\n",
       "      <td>-1</td>\n",
       "      <td>-1</td>\n",
       "      <td>-1</td>\n",
       "      <td>-1</td>\n",
       "      <td>NaN</td>\n",
       "    </tr>\n",
       "    <tr>\n",
       "      <th>1</th>\n",
       "      <td>201900000001</td>\n",
       "      <td>30</td>\n",
       "      <td>11</td>\n",
       "      <td>2019</td>\n",
       "      <td>01:30</td>\n",
       "      <td>4</td>\n",
       "      <td>93</td>\n",
       "      <td>93053</td>\n",
       "      <td>1</td>\n",
       "      <td>1</td>\n",
       "      <td>...</td>\n",
       "      <td>2</td>\n",
       "      <td>1993</td>\n",
       "      <td>5</td>\n",
       "      <td>1</td>\n",
       "      <td>0</td>\n",
       "      <td>-1</td>\n",
       "      <td>-1</td>\n",
       "      <td>-1</td>\n",
       "      <td>-1</td>\n",
       "      <td>NaN</td>\n",
       "    </tr>\n",
       "    <tr>\n",
       "      <th>2</th>\n",
       "      <td>201900000001</td>\n",
       "      <td>30</td>\n",
       "      <td>11</td>\n",
       "      <td>2019</td>\n",
       "      <td>01:30</td>\n",
       "      <td>4</td>\n",
       "      <td>93</td>\n",
       "      <td>93053</td>\n",
       "      <td>1</td>\n",
       "      <td>1</td>\n",
       "      <td>...</td>\n",
       "      <td>1</td>\n",
       "      <td>1959</td>\n",
       "      <td>0</td>\n",
       "      <td>1</td>\n",
       "      <td>0</td>\n",
       "      <td>-1</td>\n",
       "      <td>-1</td>\n",
       "      <td>-1</td>\n",
       "      <td>-1</td>\n",
       "      <td>NaN</td>\n",
       "    </tr>\n",
       "    <tr>\n",
       "      <th>3</th>\n",
       "      <td>201900000002</td>\n",
       "      <td>30</td>\n",
       "      <td>11</td>\n",
       "      <td>2019</td>\n",
       "      <td>02:50</td>\n",
       "      <td>3</td>\n",
       "      <td>93</td>\n",
       "      <td>93066</td>\n",
       "      <td>1</td>\n",
       "      <td>1</td>\n",
       "      <td>...</td>\n",
       "      <td>2</td>\n",
       "      <td>1994</td>\n",
       "      <td>0</td>\n",
       "      <td>1</td>\n",
       "      <td>0</td>\n",
       "      <td>-1</td>\n",
       "      <td>-1</td>\n",
       "      <td>-1</td>\n",
       "      <td>-1</td>\n",
       "      <td>NaN</td>\n",
       "    </tr>\n",
       "    <tr>\n",
       "      <th>4</th>\n",
       "      <td>201900000003</td>\n",
       "      <td>28</td>\n",
       "      <td>11</td>\n",
       "      <td>2019</td>\n",
       "      <td>15:15</td>\n",
       "      <td>1</td>\n",
       "      <td>92</td>\n",
       "      <td>92036</td>\n",
       "      <td>1</td>\n",
       "      <td>1</td>\n",
       "      <td>...</td>\n",
       "      <td>1</td>\n",
       "      <td>1996</td>\n",
       "      <td>0</td>\n",
       "      <td>1</td>\n",
       "      <td>0</td>\n",
       "      <td>-1</td>\n",
       "      <td>-1</td>\n",
       "      <td>0</td>\n",
       "      <td>-1</td>\n",
       "      <td>NaN</td>\n",
       "    </tr>\n",
       "  </tbody>\n",
       "</table>\n",
       "<p>5 rows × 56 columns</p>\n",
       "</div>"
      ],
      "text/plain": [
       "        Num_Acc jour mois    an   hrmn lum dep    com agg int  ... sexe  \\\n",
       "0  201900000001   30   11  2019  01:30   4  93  93053   1   1  ...    2   \n",
       "1  201900000001   30   11  2019  01:30   4  93  93053   1   1  ...    2   \n",
       "2  201900000001   30   11  2019  01:30   4  93  93053   1   1  ...    1   \n",
       "3  201900000002   30   11  2019  02:50   3  93  93066   1   1  ...    2   \n",
       "4  201900000003   28   11  2019  15:15   1  92  92036   1   1  ...    1   \n",
       "\n",
       "  an_nais trajet secu1 secu2 secu3 locp actp etatp id_usager  \n",
       "0    2002      0     1     0    -1   -1   -1    -1       NaN  \n",
       "1    1993      5     1     0    -1   -1   -1    -1       NaN  \n",
       "2    1959      0     1     0    -1   -1   -1    -1       NaN  \n",
       "3    1994      0     1     0    -1   -1   -1    -1       NaN  \n",
       "4    1996      0     1     0    -1   -1    0    -1       NaN  \n",
       "\n",
       "[5 rows x 56 columns]"
      ]
     },
     "execution_count": 9,
     "metadata": {},
     "output_type": "execute_result"
    }
   ],
   "source": [
    "## Concaténation de toutes les années\n",
    "df_accidents = pd.concat([df_2019, df_2020, df_2021, df_2022, df_2023], axis=0, ignore_index=True)\n",
    "df_accidents.head()"
   ]
  },
  {
   "cell_type": "code",
   "execution_count": 10,
   "metadata": {},
   "outputs": [
    {
     "name": "stdout",
     "output_type": "stream",
     "text": [
      "<class 'pandas.core.frame.DataFrame'>\n",
      "RangeIndex: 657865 entries, 0 to 657864\n",
      "Data columns (total 56 columns):\n",
      " #   Column       Non-Null Count   Dtype \n",
      "---  ------       --------------   ----- \n",
      " 0   Num_Acc      657865 non-null  object\n",
      " 1   jour         657865 non-null  object\n",
      " 2   mois         657865 non-null  object\n",
      " 3   an           657865 non-null  object\n",
      " 4   hrmn         657865 non-null  object\n",
      " 5   lum          657865 non-null  object\n",
      " 6   dep          657865 non-null  object\n",
      " 7   com          657865 non-null  object\n",
      " 8   agg          657865 non-null  object\n",
      " 9   int          657865 non-null  object\n",
      " 10  atm          657865 non-null  object\n",
      " 11  col          657865 non-null  object\n",
      " 12  adr          647763 non-null  object\n",
      " 13  lat          657865 non-null  object\n",
      " 14  long         657865 non-null  object\n",
      " 15  catr         657865 non-null  object\n",
      " 16  voie         581905 non-null  object\n",
      " 17  v1           633269 non-null  object\n",
      " 18  v2           53165 non-null   object\n",
      " 19  circ         657865 non-null  object\n",
      " 20  nbv          657865 non-null  object\n",
      " 21  vosp         657865 non-null  object\n",
      " 22  prof         657865 non-null  object\n",
      " 23  pr           657865 non-null  object\n",
      " 24  pr1          657865 non-null  object\n",
      " 25  plan         657865 non-null  object\n",
      " 26  lartpc       1160 non-null    object\n",
      " 27  larrout      525719 non-null  object\n",
      " 28  surf         657865 non-null  object\n",
      " 29  infra        657865 non-null  object\n",
      " 30  situ         657865 non-null  object\n",
      " 31  vma          657865 non-null  object\n",
      " 32  id_vehicule  657865 non-null  object\n",
      " 33  num_veh_x    657865 non-null  object\n",
      " 34  senc         657865 non-null  object\n",
      " 35  catv         657865 non-null  object\n",
      " 36  obs          657865 non-null  object\n",
      " 37  obsm         657865 non-null  object\n",
      " 38  choc         657865 non-null  object\n",
      " 39  manv         657865 non-null  object\n",
      " 40  motor        657865 non-null  object\n",
      " 41  occutc       8938 non-null    object\n",
      " 42  num_veh_y    657865 non-null  object\n",
      " 43  place        657865 non-null  object\n",
      " 44  catu         657865 non-null  object\n",
      " 45  grav         657865 non-null  object\n",
      " 46  sexe         657865 non-null  object\n",
      " 47  an_nais      648412 non-null  object\n",
      " 48  trajet       657865 non-null  object\n",
      " 49  secu1        657865 non-null  object\n",
      " 50  secu2        657865 non-null  object\n",
      " 51  secu3        657865 non-null  object\n",
      " 52  locp         657865 non-null  object\n",
      " 53  actp         657865 non-null  object\n",
      " 54  etatp        657865 non-null  object\n",
      " 55  id_usager    419593 non-null  object\n",
      "dtypes: object(56)\n",
      "memory usage: 281.1+ MB\n"
     ]
    }
   ],
   "source": [
    "df_accidents.info()"
   ]
  },
  {
   "cell_type": "code",
   "execution_count": 11,
   "metadata": {},
   "outputs": [
    {
     "name": "stdout",
     "output_type": "stream",
     "text": [
      "Valeurs manquantes par colonne :\n",
      " adr           10102\n",
      "voie          75960\n",
      "v1            24596\n",
      "v2           604700\n",
      "lartpc       656705\n",
      "larrout      132146\n",
      "occutc       648927\n",
      "an_nais        9453\n",
      "id_usager    238272\n",
      "dtype: int64\n"
     ]
    }
   ],
   "source": [
    "missing_values = df_accidents.isnull().sum()\n",
    "print(\"Valeurs manquantes par colonne :\\n\", missing_values[missing_values > 0])\n"
   ]
  },
  {
   "cell_type": "code",
   "execution_count": 12,
   "metadata": {},
   "outputs": [
    {
     "name": "stdout",
     "output_type": "stream",
     "text": [
      "Nombre de doublons : 164\n"
     ]
    }
   ],
   "source": [
    "print(\"Nombre de doublons :\", df_accidents.duplicated().sum())\n",
    "df_accidents.drop_duplicates(inplace=True)\n"
   ]
  },
  {
   "cell_type": "code",
   "execution_count": 13,
   "metadata": {},
   "outputs": [
    {
     "name": "stdout",
     "output_type": "stream",
     "text": [
      "             Num_Acc    jour    mois      an    hrmn     lum     dep     com  \\\n",
      "count         657701  657701  657701  657701  657701  657701  657701  657701   \n",
      "unique        273226      31      21       5    1440       6     116   22984   \n",
      "top     202300008814       7      10    2023   18:00       1      75   75116   \n",
      "freq             108   22675   63098  163683    8916  441744   60796    6534   \n",
      "\n",
      "           agg     int  ...    sexe an_nais  trajet   secu1   secu2   secu3  \\\n",
      "count   657701  657701  ...  657701  648248  657701  657701  657701  657701   \n",
      "unique       2      10  ...       3     112       8      11      11      11   \n",
      "top          2       1  ...       1    2000       5       1      -1      -1   \n",
      "freq    413578  395543  ...  442935   19549  240788  385683  263445  649028   \n",
      "\n",
      "          locp    actp   etatp    id_usager  \n",
      "count   657701  657701  657701       419593  \n",
      "unique      11      13       4       381699  \n",
      "top          0       0      -1  203 766 993  \n",
      "freq    304593  335641  606934            5  \n",
      "\n",
      "[4 rows x 56 columns]\n"
     ]
    }
   ],
   "source": [
    "print(df_accidents.describe(include=\"all\"))  # Stats sur toutes les colonnes\n"
   ]
  },
  {
   "cell_type": "code",
   "execution_count": 14,
   "metadata": {},
   "outputs": [
    {
     "name": "stdout",
     "output_type": "stream",
     "text": [
      "grav\n",
      "1      278135\n",
      "4      262348\n",
      "3       99834\n",
      "2       16927\n",
      " -1       457\n",
      "Name: count, dtype: int64\n"
     ]
    }
   ],
   "source": [
    "print(df_accidents[\"grav\"].value_counts())  # Répartition des classes de \"grav\""
   ]
  },
  {
   "cell_type": "code",
   "execution_count": 15,
   "metadata": {},
   "outputs": [],
   "source": [
    "df_accidents[\"vma\"] = pd.to_numeric(df_accidents[\"vma\"], errors=\"coerce\")\n"
   ]
  },
  {
   "cell_type": "code",
   "execution_count": 16,
   "metadata": {},
   "outputs": [
    {
     "name": "stdout",
     "output_type": "stream",
     "text": [
      "Valeurs uniques de vma AVANT filtrage : [ 70  90  30  50  80  60  10 110  20  -1 130  15   5  40   3   4   1   0\n",
      "  45  25   2 500 100  65  12 120  35   6 560   7 700 800  42 600  55   8\n",
      " 300 900 520 180  75 901   9 501 502 770 140  31  23]\n"
     ]
    }
   ],
   "source": [
    "print(\"Valeurs uniques de vma AVANT filtrage :\", df_accidents[\"vma\"].unique())\n"
   ]
  },
  {
   "cell_type": "code",
   "execution_count": 17,
   "metadata": {},
   "outputs": [],
   "source": [
    "vma_valides = [70, 90, 30, 20, 50, 60, 80, 10, 40, 110, 130, -1]\n",
    "\n",
    "# Filtrer uniquement les vitesses valides\n",
    "df_accidents = df_accidents[df_accidents[\"vma\"].isin(vma_valides)]"
   ]
  },
  {
   "cell_type": "code",
   "execution_count": 18,
   "metadata": {},
   "outputs": [
    {
     "name": "stdout",
     "output_type": "stream",
     "text": [
      "Valeurs uniques de vma après filtrage : [ 70  90  30  50  80  60  10 110  20  -1 130  40]\n"
     ]
    }
   ],
   "source": [
    "print(\"Valeurs uniques de vma après filtrage :\", df_accidents[\"vma\"].unique())\n",
    "# Nous avons bien supprimer les valeurs de vma abberantes "
   ]
  },
  {
   "cell_type": "markdown",
   "metadata": {},
   "source": [
    "- Regardons si la vitesse limite autorisé à un impact sur la gravité des accidents "
   ]
  },
  {
   "cell_type": "code",
   "execution_count": 27,
   "metadata": {},
   "outputs": [],
   "source": [
    "df_prop.columns = df_prop.columns.astype(str).str.strip()\n"
   ]
  },
  {
   "cell_type": "code",
   "execution_count": null,
   "metadata": {},
   "outputs": [
    {
     "data": {
      "image/png": "[encoded data removed]",
      "text/plain": [
       "<Figure size 1200x600 with 1 Axes>"
      ]
     },
     "metadata": {},
     "output_type": "display_data"
    }
   ],
   "source": [
    "colors = {\n",
    "    \"-1\": \"gray\",   # Inconnu\n",
    "    \"1\": \"blue\",    # Non hospitalisé\n",
    "    \"2\": \"red\",     # Mort\n",
    "    \"3\": \"orange\",  # Blessé hospitalisé\n",
    "    \"4\": \"green\"    # Blessé léger\n",
    "}\n",
    "\n",
    "# On trace le barplot empilé avec les couleurs définies\n",
    "df_prop.plot(kind=\"bar\", stacked=True, figsize=(12,6), color=[colors[str(i)] for i in df_prop.columns])\n",
    "\n",
    "plt.title(\"Proportion de gravité des accidents par vitesse limite\")\n",
    "plt.xlabel(\"Vitesse limite (km/h)\")\n",
    "plt.ylabel(\"Proportion (%)\")\n",
    "plt.legend(title=\"Gravité\", loc=\"upper right\")\n",
    "plt.show()"
   ]
  },
  {
   "cell_type": "markdown",
   "metadata": {},
   "source": [
    "La limitation de vitesse à 80 km/h semble être une limitation vitesse critique dans le cadre des accidents routiers."
   ]
  },
  {
   "cell_type": "code",
   "execution_count": null,
   "metadata": {},
   "outputs": [],
   "source": [
    "df_accidents.to_csv(\"df_accidents.csv\", index=False, encoding=\"utf-8\")\n",
    "# Dataset v1 sauvegardé !"
   ]
  }
 ],
 "metadata": {
  "kernelspec": {
   "display_name": "venv",
   "language": "python",
   "name": "python3"
  },
  "language_info": {
   "codemirror_mode": {
    "name": "ipython",
    "version": 3
   },
   "file_extension": ".py",
   "mimetype": "text/x-python",
   "name": "python",
   "nbconvert_exporter": "python",
   "pygments_lexer": "ipython3",
   "version": "3.8.10"
  }
 },
 "nbformat": 4,
 "nbformat_minor": 2
}
